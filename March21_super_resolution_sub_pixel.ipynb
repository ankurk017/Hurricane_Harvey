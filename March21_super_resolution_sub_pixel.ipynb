{
  "cells": [
    {
      "cell_type": "markdown",
      "metadata": {
        "id": "view-in-github",
        "colab_type": "text"
      },
      "source": [
        "<a href=\"https://colab.research.google.com/github/ankurk017/Hurricane_Harvey/blob/master/March21_super_resolution_sub_pixel.ipynb\" target=\"_parent\"><img src=\"https://colab.research.google.com/assets/colab-badge.svg\" alt=\"Open In Colab\"/></a>"
      ]
    },
    {
      "cell_type": "markdown",
      "metadata": {
        "id": "8jaalINeNED_"
      },
      "source": [
        "# Image Super-Resolution using an Efficient Sub-Pixel CNN\n",
        "\n",
        "**Author:** [Xingyu Long](https://github.com/xingyu-long)<br>\n",
        "**Date created:** 2020/07/28<br>\n",
        "**Last modified:** 2020/08/27 <br>\n",
        "**Description:** Implementing Super-Resolution using Efficient sub-pixel model on BSDS500."
      ]
    },
    {
      "cell_type": "markdown",
      "metadata": {
        "id": "K-rhGDEENEEB"
      },
      "source": [
        "## Introduction\n",
        "\n",
        "ESPCN (Efficient Sub-Pixel CNN), proposed by [Shi, 2016](https://arxiv.org/abs/1609.05158)\n",
        "is a model that reconstructs a high-resolution version of an image given a low-resolution version.\n",
        "It leverages efficient \"sub-pixel convolution\" layers, which learns an array of\n",
        "image upscaling filters.\n",
        "\n",
        "In this code example, we will implement the model from the paper and train it on a small dataset,\n",
        "[BSDS500](https://www2.eecs.berkeley.edu/Research/Projects/CS/vision/grouping/resources.html)."
      ]
    },
    {
      "cell_type": "code",
      "source": [
        "passcode = 'Jelly0311'"
      ],
      "metadata": {
        "id": "D-EQ1CPID3Tn"
      },
      "execution_count": 1,
      "outputs": []
    },
    {
      "cell_type": "markdown",
      "metadata": {
        "id": "GkaQ8s1vNEEB"
      },
      "source": [
        "## Setup"
      ]
    },
    {
      "cell_type": "code",
      "source": [
        "! pip install pydap\n",
        "! pip install cartopy"
      ],
      "metadata": {
        "colab": {
          "base_uri": "https://localhost:8080/"
        },
        "id": "WnkojNhUWEWh",
        "outputId": "bfc0111d-3638-43d1-99e7-8b4224cf444b"
      },
      "execution_count": 2,
      "outputs": [
        {
          "output_type": "stream",
          "name": "stdout",
          "text": [
            "Looking in indexes: https://pypi.org/simple, https://us-python.pkg.dev/colab-wheels/public/simple/\n",
            "Requirement already satisfied: pydap in /usr/local/lib/python3.9/dist-packages (3.2.2)\n",
            "Requirement already satisfied: Webob in /usr/local/lib/python3.9/dist-packages (from pydap) (1.8.7)\n",
            "Requirement already satisfied: beautifulsoup4 in /usr/local/lib/python3.9/dist-packages (from pydap) (4.11.2)\n",
            "Requirement already satisfied: six>=1.4.0 in /usr/local/lib/python3.9/dist-packages (from pydap) (1.16.0)\n",
            "Requirement already satisfied: docopt in /usr/local/lib/python3.9/dist-packages (from pydap) (0.6.2)\n",
            "Requirement already satisfied: numpy in /usr/local/lib/python3.9/dist-packages (from pydap) (1.22.4)\n",
            "Requirement already satisfied: Jinja2 in /usr/local/lib/python3.9/dist-packages (from pydap) (3.1.2)\n",
            "Requirement already satisfied: soupsieve>1.2 in /usr/local/lib/python3.9/dist-packages (from beautifulsoup4->pydap) (2.4)\n",
            "Requirement already satisfied: MarkupSafe>=2.0 in /usr/local/lib/python3.9/dist-packages (from Jinja2->pydap) (2.1.2)\n",
            "Looking in indexes: https://pypi.org/simple, https://us-python.pkg.dev/colab-wheels/public/simple/\n",
            "Requirement already satisfied: cartopy in /usr/local/lib/python3.9/dist-packages (0.21.1)\n",
            "Requirement already satisfied: matplotlib>=3.1 in /usr/local/lib/python3.9/dist-packages (from cartopy) (3.7.1)\n",
            "Requirement already satisfied: numpy>=1.18 in /usr/local/lib/python3.9/dist-packages (from cartopy) (1.22.4)\n",
            "Requirement already satisfied: pyshp>=2.1 in /usr/local/lib/python3.9/dist-packages (from cartopy) (2.3.1)\n",
            "Requirement already satisfied: shapely>=1.6.4 in /usr/local/lib/python3.9/dist-packages (from cartopy) (2.0.1)\n",
            "Requirement already satisfied: pyproj>=3.0.0 in /usr/local/lib/python3.9/dist-packages (from cartopy) (3.4.1)\n",
            "Requirement already satisfied: pillow>=6.2.0 in /usr/local/lib/python3.9/dist-packages (from matplotlib>=3.1->cartopy) (8.4.0)\n",
            "Requirement already satisfied: packaging>=20.0 in /usr/local/lib/python3.9/dist-packages (from matplotlib>=3.1->cartopy) (23.0)\n",
            "Requirement already satisfied: importlib-resources>=3.2.0 in /usr/local/lib/python3.9/dist-packages (from matplotlib>=3.1->cartopy) (5.12.0)\n",
            "Requirement already satisfied: kiwisolver>=1.0.1 in /usr/local/lib/python3.9/dist-packages (from matplotlib>=3.1->cartopy) (1.4.4)\n",
            "Requirement already satisfied: python-dateutil>=2.7 in /usr/local/lib/python3.9/dist-packages (from matplotlib>=3.1->cartopy) (2.8.2)\n",
            "Requirement already satisfied: fonttools>=4.22.0 in /usr/local/lib/python3.9/dist-packages (from matplotlib>=3.1->cartopy) (4.39.2)\n",
            "Requirement already satisfied: contourpy>=1.0.1 in /usr/local/lib/python3.9/dist-packages (from matplotlib>=3.1->cartopy) (1.0.7)\n",
            "Requirement already satisfied: pyparsing>=2.3.1 in /usr/local/lib/python3.9/dist-packages (from matplotlib>=3.1->cartopy) (3.0.9)\n",
            "Requirement already satisfied: cycler>=0.10 in /usr/local/lib/python3.9/dist-packages (from matplotlib>=3.1->cartopy) (0.11.0)\n",
            "Requirement already satisfied: certifi in /usr/local/lib/python3.9/dist-packages (from pyproj>=3.0.0->cartopy) (2022.12.7)\n",
            "Requirement already satisfied: zipp>=3.1.0 in /usr/local/lib/python3.9/dist-packages (from importlib-resources>=3.2.0->matplotlib>=3.1->cartopy) (3.15.0)\n",
            "Requirement already satisfied: six>=1.5 in /usr/local/lib/python3.9/dist-packages (from python-dateutil>=2.7->matplotlib>=3.1->cartopy) (1.16.0)\n"
          ]
        }
      ]
    },
    {
      "cell_type": "code",
      "execution_count": 3,
      "metadata": {
        "id": "PrHCKYf7NEEB"
      },
      "outputs": [],
      "source": [
        "import tensorflow as tf\n",
        "\n",
        "import os\n",
        "import math\n",
        "import numpy as np\n",
        "import cartopy.crs as ccrs\n",
        "from pydap.client import open_url\n",
        "from pydap.cas.urs import setup_session\n",
        "\n",
        "\n",
        "from tensorflow import keras\n",
        "from tensorflow.keras import layers\n",
        "from tensorflow.keras.preprocessing.image import load_img\n",
        "from tensorflow.keras.preprocessing.image import array_to_img\n",
        "from tensorflow.keras.preprocessing.image import img_to_array\n",
        "from tensorflow.keras.preprocessing import image_dataset_from_directory\n",
        "\n",
        "from IPython.display import display"
      ]
    },
    {
      "cell_type": "markdown",
      "metadata": {
        "id": "xqJPNMDJNEEC"
      },
      "source": [
        "## Load data: BSDS500 dataset\n",
        "\n",
        "### Download dataset\n",
        "\n",
        "We use the built-in `keras.utils.get_file` utility to retrieve the dataset."
      ]
    },
    {
      "cell_type": "markdown",
      "metadata": {
        "id": "DV1fzL1WNEEC"
      },
      "source": [
        "We create training and validation datasets via `image_dataset_from_directory`."
      ]
    },
    {
      "cell_type": "markdown",
      "metadata": {
        "id": "RgiNyRhVNEED"
      },
      "source": [
        "We rescale the images to take values in the range [0, 1]."
      ]
    },
    {
      "cell_type": "code",
      "execution_count": 4,
      "metadata": {
        "id": "nwuEyRPKNEED"
      },
      "outputs": [],
      "source": [
        "\n",
        "def scaling(input_image):\n",
        "    input_image = input_image / 255.0\n",
        "    return input_image\n",
        "\n",
        "\n",
        "# Scale from (0, 255) to (0, 1)\n",
        "# train_ds = train_ds.map(scaling)\n",
        "# valid_ds = valid_ds.map(scaling)"
      ]
    },
    {
      "cell_type": "markdown",
      "metadata": {
        "id": "xiQMr2k2NEEE"
      },
      "source": [
        "## Crop and resize images\n",
        "\n",
        "Let's process image data.\n",
        "First, we convert our images from the RGB color space to the\n",
        "[YUV colour space](https://en.wikipedia.org/wiki/YUV).\n",
        "\n",
        "For the input data (low-resolution images),\n",
        "we crop the image, retrieve the `y` channel (luninance),\n",
        "and resize it with the `area` method (use `BICUBIC` if you use PIL).\n",
        "We only consider the luminance channel\n",
        "in the YUV color space because humans are more sensitive to\n",
        "luminance change.\n",
        "\n",
        "For the target data (high-resolution images), we just crop the image\n",
        "and retrieve the `y` channel."
      ]
    },
    {
      "cell_type": "code",
      "execution_count": 5,
      "metadata": {
        "id": "xz4xDhd5NEEE"
      },
      "outputs": [],
      "source": [
        "\n",
        "# Use TF Ops to process.\n",
        "def process_input(input, input_size, upscale_factor):\n",
        "\n",
        "    return tf.image.resize(input, [input_size, input_size], method=\"area\")\n",
        "\n",
        "\n",
        "def process_target(input):\n",
        "    input = tf.image.rgb_to_yuv(input)\n",
        "    last_dimension_axis = len(input.shape) - 1\n",
        "    y, u, v = tf.split(input, 3, axis=last_dimension_axis)\n",
        "    return input\n",
        "\n",
        "\n"
      ]
    },
    {
      "cell_type": "markdown",
      "metadata": {
        "id": "YCzEJmlYNEEE"
      },
      "source": [
        "Let's take a look at the input and target data."
      ]
    },
    {
      "cell_type": "markdown",
      "metadata": {
        "id": "4CErh21wNEEE"
      },
      "source": [
        "## Build a model\n",
        "\n",
        "Compared to the paper, we add one more layer and we use the `relu` activation function\n",
        "instead of `tanh`.\n",
        "It achieves better performance even though we train the model for fewer epochs."
      ]
    },
    {
      "cell_type": "code",
      "execution_count": 6,
      "metadata": {
        "id": "iIVxSIenNEEE"
      },
      "outputs": [],
      "source": [
        "\n",
        "def get_model(upscale_factor=3, channels=3):\n",
        "    conv_args = {\n",
        "        \"activation\": \"relu\",\n",
        "        \"kernel_initializer\": \"Orthogonal\",\n",
        "        \"padding\": \"same\",\n",
        "    }\n",
        "    inputs = keras.Input(shape=(None, None, channels))\n",
        "    x = layers.Conv2D(64, 5, **conv_args)(inputs)\n",
        "    x = layers.Conv2D(64, 3, **conv_args)(x)\n",
        "    x = layers.Conv2D(32, 3, **conv_args)(x)\n",
        "    x = layers.Conv2D(channels * (upscale_factor ** 2), 3, **conv_args)(x)\n",
        "    outputs = tf.nn.depth_to_space(x, upscale_factor)\n",
        "\n",
        "    return keras.Model(inputs, outputs)\n"
      ]
    },
    {
      "cell_type": "markdown",
      "metadata": {
        "id": "17H-EaXdNEEE"
      },
      "source": [
        "## Define utility functions\n",
        "\n",
        "We need to define several utility functions to monitor our results:\n",
        "\n",
        "- `plot_results` to plot an save an image.\n",
        "- `get_lowres_image` to convert an image to its low-resolution version.\n",
        "- `upscale_image` to turn a low-resolution image to\n",
        "a high-resolution version reconstructed by the model.\n",
        "In this function, we use the `y` channel from the YUV color space\n",
        "as input to the model and then combine the output with the\n",
        "other channels to obtain an RGB image."
      ]
    },
    {
      "cell_type": "code",
      "execution_count": 7,
      "metadata": {
        "id": "PqHoNlfHNEEF"
      },
      "outputs": [],
      "source": [
        "import matplotlib.pyplot as plt\n",
        "from mpl_toolkits.axes_grid1.inset_locator import zoomed_inset_axes\n",
        "from mpl_toolkits.axes_grid1.inset_locator import mark_inset\n",
        "import PIL\n",
        "\n",
        "\n",
        "def get_lowres_image(img, upscale_factor):\n",
        "    \"\"\"Return low-resolution image to use as model input.\"\"\"\n",
        "    return img.resize(\n",
        "        (img.size[0] // upscale_factor, img.size[1] // upscale_factor),\n",
        "        PIL.Image.BICUBIC,\n",
        "    )\n",
        "\n",
        "\n",
        "def upscale_image(model, img):\n",
        "    \"\"\"Predict the result based on input image and restore the image as RGB.\"\"\"\n",
        "    ycbcr = img.convert(\"YCbCr\")\n",
        "    y = img_to_array(ycbcr)\n",
        "\n",
        " #   y = y.astype(\"float32\") / 255.0\n",
        "    input = np.expand_dims(y, axis=0)\n",
        "\n",
        "    print('A========================+A')\n",
        "    out = model.predict(input)\n",
        "    print('B========================+B')\n",
        "    out_img_y = out\n",
        "\n",
        "    return out_img_y\n"
      ]
    },
    {
      "cell_type": "markdown",
      "metadata": {
        "id": "y73mxWWWNEEF"
      },
      "source": [
        "## Define callbacks to monitor training\n",
        "\n",
        "The `ESPCNCallback` object will compute and display\n",
        "the [PSNR](https://en.wikipedia.org/wiki/Peak_signal-to-noise_ratio) metric.\n",
        "This is the main metric we use to evaluate super-resolution performance."
      ]
    },
    {
      "cell_type": "code",
      "execution_count": 8,
      "metadata": {
        "id": "7wdDFtn5NEEF"
      },
      "outputs": [],
      "source": [
        "\n",
        "class ESPCNCallback(keras.callbacks.Callback):\n",
        "    def __init__(self):\n",
        "        super().__init__()\n",
        "      #  self.test_img = get_lowres_image(load_img(test_img_paths[0]), upscale_factor)\n",
        "\n",
        "    # Store PSNR value in each epoch.\n",
        "    def on_epoch_begin(self, epoch, logs=None):\n",
        "        self.psnr = []\n",
        "\n",
        "    def on_epoch_end(self, epoch, logs=None):\n",
        "        print(\"Mean PSNR for epoch: %.2f\" % (np.mean(self.psnr)))\n",
        "      #  if epoch % 20 == 0:\n",
        "      #      prediction = upscale_image(self.model, self.test_img)\n",
        "          #  plot_results(prediction, \"epoch-\" + str(epoch), \"prediction\")\n",
        "\n",
        "    def on_test_batch_end(self, batch, logs=None):\n",
        "        self.psnr.append(10 * math.log10(1 / logs[\"loss\"]))\n"
      ]
    },
    {
      "cell_type": "markdown",
      "metadata": {
        "id": "Obr86HJbNEEF"
      },
      "source": [
        "Define `ModelCheckpoint` and `EarlyStopping` callbacks."
      ]
    },
    {
      "cell_type": "code",
      "execution_count": 9,
      "metadata": {
        "id": "1LwvFB3dNEEF",
        "colab": {
          "base_uri": "https://localhost:8080/"
        },
        "outputId": "a1b5d5dc-2bde-46bb-a2fd-d3649c5ceefb"
      },
      "outputs": [
        {
          "output_type": "stream",
          "name": "stdout",
          "text": [
            "Model: \"model\"\n",
            "_________________________________________________________________\n",
            " Layer (type)                Output Shape              Param #   \n",
            "=================================================================\n",
            " input_1 (InputLayer)        [(None, None, None, 3)]   0         \n",
            "                                                                 \n",
            " conv2d (Conv2D)             (None, None, None, 64)    4864      \n",
            "                                                                 \n",
            " conv2d_1 (Conv2D)           (None, None, None, 64)    36928     \n",
            "                                                                 \n",
            " conv2d_2 (Conv2D)           (None, None, None, 32)    18464     \n",
            "                                                                 \n",
            " conv2d_3 (Conv2D)           (None, None, None, 27)    7803      \n",
            "                                                                 \n",
            " tf.nn.depth_to_space (TFOpL  (None, None, None, 3)    0         \n",
            " ambda)                                                          \n",
            "                                                                 \n",
            "=================================================================\n",
            "Total params: 68,059\n",
            "Trainable params: 68,059\n",
            "Non-trainable params: 0\n",
            "_________________________________________________________________\n"
          ]
        }
      ],
      "source": [
        "early_stopping_callback = keras.callbacks.EarlyStopping(monitor=\"loss\", patience=10)\n",
        "\n",
        "checkpoint_filepath = \"/tmp/checkpoint\"\n",
        "\n",
        "model_checkpoint_callback = keras.callbacks.ModelCheckpoint(\n",
        "    filepath=checkpoint_filepath,\n",
        "    save_weights_only=True,\n",
        "    monitor=\"loss\",\n",
        "    mode=\"min\",\n",
        "    save_best_only=True,\n",
        ")\n",
        "\n",
        "model = get_model(channels=3)\n",
        "model.summary()\n",
        "\n",
        "callbacks = [ESPCNCallback(), early_stopping_callback, model_checkpoint_callback]\n",
        "loss_fn = keras.losses.MeanSquaredError()\n",
        "optimizer = keras.optimizers.Adam(learning_rate=0.001)"
      ]
    },
    {
      "cell_type": "code",
      "source": [
        "model.predict(np.random.random((100, 20, 20, 3))).shape"
      ],
      "metadata": {
        "colab": {
          "base_uri": "https://localhost:8080/"
        },
        "id": "AG7jyXdx4AJ2",
        "outputId": "d71755e1-f1c3-45ed-9dc0-4cab8a930a7e"
      },
      "execution_count": 10,
      "outputs": [
        {
          "output_type": "stream",
          "name": "stdout",
          "text": [
            "4/4 [==============================] - 2s 32ms/step\n"
          ]
        },
        {
          "output_type": "execute_result",
          "data": {
            "text/plain": [
              "(100, 60, 60, 3)"
            ]
          },
          "metadata": {},
          "execution_count": 10
        }
      ]
    },
    {
      "cell_type": "markdown",
      "source": [
        "LOAD ACTUAL MERRA DATA"
      ],
      "metadata": {
        "id": "DQKzaos_0rA2"
      }
    },
    {
      "cell_type": "code",
      "source": [
        "from google.colab import drive\n",
        "drive.mount('/content/drive')"
      ],
      "metadata": {
        "colab": {
          "base_uri": "https://localhost:8080/"
        },
        "id": "SncU8nvl0tyX",
        "outputId": "fe4792e8-5344-4f3a-e293-a8a28e9aaafc"
      },
      "execution_count": 11,
      "outputs": [
        {
          "output_type": "stream",
          "name": "stdout",
          "text": [
            "Drive already mounted at /content/drive; to attempt to forcibly remount, call drive.mount(\"/content/drive\", force_remount=True).\n"
          ]
        }
      ]
    },
    {
      "cell_type": "code",
      "source": [
        "import xarray as xr\n",
        "import glob"
      ],
      "metadata": {
        "id": "Tr0TpyHc62b9"
      },
      "execution_count": 12,
      "outputs": []
    },
    {
      "cell_type": "code",
      "source": [
        "files = glob.glob('/content/drive/MyDrive/MERRA_HURR/*nc')\n",
        "get_data = lambda A: np.stack((A['U10M'].values, A['V10M'].values, A['U'].sel(lev=500).values, A['U'].sel(lev=850).values, A['U'].sel(lev=950).values, A['V'].sel(lev=500).values, A['V'].sel(lev=850).values, A['V'].sel(lev=950).values), axis=2)"
      ],
      "metadata": {
        "id": "uL3mqbDf6_8-"
      },
      "execution_count": 53,
      "outputs": []
    },
    {
      "cell_type": "code",
      "source": [
        "len(files)"
      ],
      "metadata": {
        "colab": {
          "base_uri": "https://localhost:8080/"
        },
        "id": "KPR9P36CA0bh",
        "outputId": "a5995222-7c50-4e85-a77b-89595c442a01"
      },
      "execution_count": 14,
      "outputs": [
        {
          "output_type": "execute_result",
          "data": {
            "text/plain": [
              "118"
            ]
          },
          "metadata": {},
          "execution_count": 14
        }
      ]
    },
    {
      "cell_type": "markdown",
      "metadata": {
        "id": "ckjLYbUjNEEF"
      },
      "source": [
        "## Train the model"
      ]
    },
    {
      "cell_type": "code",
      "source": [
        "\n",
        "# Use TF Ops to process.\n",
        "def process_input(input, input_size, upscale_factor):\n",
        "\n",
        "    return tf.image.resize(input, [input_size, input_size], method=\"area\")\n",
        "\n",
        "\n",
        "def process_target(input):\n",
        "   # input = tf.image.rgb_to_yuv(input)\n",
        "    return input\n",
        "\n",
        "\n"
      ],
      "metadata": {
        "id": "KFWxPheH-B5R"
      },
      "execution_count": 15,
      "outputs": []
    },
    {
      "cell_type": "code",
      "source": [
        "data_train1 = (data_train[:,:,:,1] - np.nanmean(data_train[:,:,:,1].ravel()))/np.nanstd(data_train[:,:,:,1].ravel())\n"
      ],
      "metadata": {
        "colab": {
          "base_uri": "https://localhost:8080/",
          "height": 165
        },
        "id": "gHDp2NSDOR3b",
        "outputId": "d2a78f19-06bf-49c1-a0c0-d54c0d36e0e7"
      },
      "execution_count": 16,
      "outputs": [
        {
          "output_type": "error",
          "ename": "NameError",
          "evalue": "ignored",
          "traceback": [
            "\u001b[0;31m---------------------------------------------------------------------------\u001b[0m",
            "\u001b[0;31mNameError\u001b[0m                                 Traceback (most recent call last)",
            "\u001b[0;32m<ipython-input-16-74433af785b0>\u001b[0m in \u001b[0;36m<module>\u001b[0;34m\u001b[0m\n\u001b[0;32m----> 1\u001b[0;31m \u001b[0mdata_train1\u001b[0m \u001b[0;34m=\u001b[0m \u001b[0;34m(\u001b[0m\u001b[0mdata_train\u001b[0m\u001b[0;34m[\u001b[0m\u001b[0;34m:\u001b[0m\u001b[0;34m,\u001b[0m\u001b[0;34m:\u001b[0m\u001b[0;34m,\u001b[0m\u001b[0;34m:\u001b[0m\u001b[0;34m,\u001b[0m\u001b[0;36m1\u001b[0m\u001b[0;34m]\u001b[0m \u001b[0;34m-\u001b[0m \u001b[0mnp\u001b[0m\u001b[0;34m.\u001b[0m\u001b[0mnanmean\u001b[0m\u001b[0;34m(\u001b[0m\u001b[0mdata_train\u001b[0m\u001b[0;34m[\u001b[0m\u001b[0;34m:\u001b[0m\u001b[0;34m,\u001b[0m\u001b[0;34m:\u001b[0m\u001b[0;34m,\u001b[0m\u001b[0;34m:\u001b[0m\u001b[0;34m,\u001b[0m\u001b[0;36m1\u001b[0m\u001b[0;34m]\u001b[0m\u001b[0;34m.\u001b[0m\u001b[0mravel\u001b[0m\u001b[0;34m(\u001b[0m\u001b[0;34m)\u001b[0m\u001b[0;34m)\u001b[0m\u001b[0;34m)\u001b[0m\u001b[0;34m/\u001b[0m\u001b[0mnp\u001b[0m\u001b[0;34m.\u001b[0m\u001b[0mnanstd\u001b[0m\u001b[0;34m(\u001b[0m\u001b[0mdata_train\u001b[0m\u001b[0;34m[\u001b[0m\u001b[0;34m:\u001b[0m\u001b[0;34m,\u001b[0m\u001b[0;34m:\u001b[0m\u001b[0;34m,\u001b[0m\u001b[0;34m:\u001b[0m\u001b[0;34m,\u001b[0m\u001b[0;36m1\u001b[0m\u001b[0;34m]\u001b[0m\u001b[0;34m.\u001b[0m\u001b[0mravel\u001b[0m\u001b[0;34m(\u001b[0m\u001b[0;34m)\u001b[0m\u001b[0;34m)\u001b[0m\u001b[0;34m\u001b[0m\u001b[0;34m\u001b[0m\u001b[0m\n\u001b[0m",
            "\u001b[0;31mNameError\u001b[0m: name 'data_train' is not defined"
          ]
        }
      ]
    },
    {
      "cell_type": "code",
      "source": [],
      "metadata": {
        "id": "S9QeoB-TOrfm"
      },
      "execution_count": null,
      "outputs": []
    },
    {
      "cell_type": "code",
      "source": [
        "import tensorflow as tf\n",
        "import numpy as np\n",
        "\n",
        "# Set the number of samples and dimensions\n",
        "num_traning_samples = 30\n",
        "num_valid_samples = 5\n",
        "num_channels = 9\n",
        "\n",
        "num_dims = 99\n",
        "upscale_factor = 3\n",
        "\n",
        "input_size = num_dims // upscale_factor\n",
        "\n",
        "epochs = 50\n",
        "\n",
        "# Generate random data\n",
        "# data_train = np.random.rand(num_traning_samples, num_dims, num_dims, num_channels)\n",
        "# data_valid = np.random.rand(num_valid_samples, num_dims, num_dims, num_channels)\n",
        "\n",
        "data_train = np.stack([get_data(xr.open_dataset(merra)) for merra in files[:100]], axis=0)[:, :99, :99, :]\n",
        "data_valid = np.stack([get_data(xr.open_dataset(merra)) for merra in files[-20:]], axis=0)[:, :99, :99, :]\n",
        "data_train[np.isnan(data_train)] = 0\n",
        "data_valid[np.isnan(data_valid)] = 0\n",
        "\n",
        "\n",
        "global_mean = np.array([data_train[:,:,:,vars].mean() for vars in range(data_train.shape[-1])]).reshape(1, 1, 1, -1)\n",
        "global_std = np.array([data_train[:,:,:,vars].std() for vars in range(data_train.shape[-1])]).reshape(1, 1, 1, -1)\n",
        "\n",
        "# SCALING DATA\n",
        "data_train = (data_train-global_mean)/global_std\n",
        "data_valid = (data_valid-global_mean)/global_std\n",
        "\n",
        "\n",
        "print(data_train.shape)\n",
        "\n",
        "# Create a TensorFlow dataset from the data\n",
        "dataset_train = tf.data.Dataset.from_tensor_slices(data_train)\n",
        "dataset_valid = tf.data.Dataset.from_tensor_slices(data_valid)\n",
        "\n",
        "# Define any additional preprocessing steps here (e.g., normalization, augmentation, etc.)\n",
        "\n",
        "# Create a TensorFlow DataLoader\n",
        "batch_size = 8\n",
        "train1_ds = dataset_train.batch(batch_size)\n",
        "valid1_ds = dataset_valid.batch(batch_size)\n",
        "\n",
        "num_channels = data_train.shape[-1]\n",
        "\n",
        "train1_ds = train1_ds.map(\n",
        "    lambda x: (process_input(x, input_size, upscale_factor), process_target(x))\n",
        ")\n",
        "train1_ds = train1_ds.prefetch(buffer_size=32)\n",
        "\n",
        "valid1_ds = valid1_ds.map(\n",
        "    lambda x: (process_input(x, input_size, upscale_factor), process_target(x))\n",
        ")\n",
        "valid1_ds = valid1_ds.prefetch(buffer_size=32)\n",
        "\n",
        "\n",
        "early_stopping_callback = keras.callbacks.EarlyStopping(monitor=\"loss\", patience=10)\n",
        "checkpoint_filepath = \"/tmp/checkpoint\"\n",
        "\n",
        "model_checkpoint_callback = keras.callbacks.ModelCheckpoint(\n",
        "    filepath=checkpoint_filepath,\n",
        "    save_weights_only=True,\n",
        "    monitor=\"loss\",\n",
        "    mode=\"min\",\n",
        "    save_best_only=True,\n",
        ")\n",
        "\n",
        "model = get_model(channels=num_channels)\n",
        "model.summary()\n",
        "\n",
        "callbacks = [ESPCNCallback(), early_stopping_callback, model_checkpoint_callback]\n",
        "loss_fn = keras.losses.MeanSquaredError()\n",
        "optimizer = keras.optimizers.Adam(learning_rate=0.001)\n",
        "\n",
        "\n",
        "\n",
        "model.compile(\n",
        "    optimizer=optimizer, loss=loss_fn,\n",
        ")\n",
        "\n",
        "#model.fit(\n",
        "#    train1_ds, epochs=epochs, callbacks=callbacks, validation_data=valid1_ds, verbose=2\n",
        "#)\n",
        "\n",
        "\n",
        "model.fit(\n",
        "    train1_ds, epochs=epochs,  validation_data=valid1_ds, verbose=2\n",
        ")"
      ],
      "metadata": {
        "id": "1YitvP5nRly9",
        "colab": {
          "base_uri": "https://localhost:8080/"
        },
        "outputId": "66575526-0c0a-4bce-e6ba-417d9c6ca35d"
      },
      "execution_count": 54,
      "outputs": [
        {
          "output_type": "stream",
          "name": "stdout",
          "text": [
            "(100, 99, 99, 8)\n",
            "Model: \"model_3\"\n",
            "_________________________________________________________________\n",
            " Layer (type)                Output Shape              Param #   \n",
            "=================================================================\n",
            " input_4 (InputLayer)        [(None, None, None, 8)]   0         \n",
            "                                                                 \n",
            " conv2d_12 (Conv2D)          (None, None, None, 64)    12864     \n",
            "                                                                 \n",
            " conv2d_13 (Conv2D)          (None, None, None, 64)    36928     \n",
            "                                                                 \n",
            " conv2d_14 (Conv2D)          (None, None, None, 32)    18464     \n",
            "                                                                 \n",
            " conv2d_15 (Conv2D)          (None, None, None, 72)    20808     \n",
            "                                                                 \n",
            " tf.nn.depth_to_space_3 (TFO  (None, None, None, 8)    0         \n",
            " pLambda)                                                        \n",
            "                                                                 \n",
            "=================================================================\n",
            "Total params: 89,064\n",
            "Trainable params: 89,064\n",
            "Non-trainable params: 0\n",
            "_________________________________________________________________\n",
            "Epoch 1/50\n",
            "13/13 - 2s - loss: 0.8783 - val_loss: 0.9463 - 2s/epoch - 164ms/step\n",
            "Epoch 2/50\n",
            "13/13 - 0s - loss: 0.7179 - val_loss: 0.8192 - 155ms/epoch - 12ms/step\n",
            "Epoch 3/50\n",
            "13/13 - 0s - loss: 0.6467 - val_loss: 0.7673 - 160ms/epoch - 12ms/step\n",
            "Epoch 4/50\n",
            "13/13 - 0s - loss: 0.6123 - val_loss: 0.7412 - 150ms/epoch - 12ms/step\n",
            "Epoch 5/50\n",
            "13/13 - 0s - loss: 0.5877 - val_loss: 0.7171 - 164ms/epoch - 13ms/step\n",
            "Epoch 6/50\n",
            "13/13 - 0s - loss: 0.5674 - val_loss: 0.6880 - 142ms/epoch - 11ms/step\n",
            "Epoch 7/50\n",
            "13/13 - 0s - loss: 0.5467 - val_loss: 0.6696 - 111ms/epoch - 9ms/step\n",
            "Epoch 8/50\n",
            "13/13 - 0s - loss: 0.5363 - val_loss: 0.6698 - 110ms/epoch - 8ms/step\n",
            "Epoch 9/50\n",
            "13/13 - 0s - loss: 0.5286 - val_loss: 0.6580 - 132ms/epoch - 10ms/step\n",
            "Epoch 10/50\n",
            "13/13 - 0s - loss: 0.5259 - val_loss: 0.6605 - 116ms/epoch - 9ms/step\n",
            "Epoch 11/50\n",
            "13/13 - 0s - loss: 0.5203 - val_loss: 0.6531 - 110ms/epoch - 8ms/step\n",
            "Epoch 12/50\n",
            "13/13 - 0s - loss: 0.5182 - val_loss: 0.6451 - 109ms/epoch - 8ms/step\n",
            "Epoch 13/50\n",
            "13/13 - 0s - loss: 0.5159 - val_loss: 0.6499 - 110ms/epoch - 8ms/step\n",
            "Epoch 14/50\n",
            "13/13 - 0s - loss: 0.5210 - val_loss: 0.6554 - 107ms/epoch - 8ms/step\n",
            "Epoch 15/50\n",
            "13/13 - 0s - loss: 0.5204 - val_loss: 0.6561 - 124ms/epoch - 10ms/step\n",
            "Epoch 16/50\n",
            "13/13 - 0s - loss: 0.5259 - val_loss: 0.6485 - 119ms/epoch - 9ms/step\n",
            "Epoch 17/50\n",
            "13/13 - 0s - loss: 0.5175 - val_loss: 0.6460 - 110ms/epoch - 8ms/step\n",
            "Epoch 18/50\n",
            "13/13 - 0s - loss: 0.5143 - val_loss: 0.6425 - 106ms/epoch - 8ms/step\n",
            "Epoch 19/50\n",
            "13/13 - 0s - loss: 0.5142 - val_loss: 0.6398 - 117ms/epoch - 9ms/step\n",
            "Epoch 20/50\n",
            "13/13 - 0s - loss: 0.5075 - val_loss: 0.6363 - 105ms/epoch - 8ms/step\n",
            "Epoch 21/50\n",
            "13/13 - 0s - loss: 0.5047 - val_loss: 0.6333 - 101ms/epoch - 8ms/step\n",
            "Epoch 22/50\n",
            "13/13 - 0s - loss: 0.5015 - val_loss: 0.6395 - 101ms/epoch - 8ms/step\n",
            "Epoch 23/50\n",
            "13/13 - 0s - loss: 0.5005 - val_loss: 0.6325 - 114ms/epoch - 9ms/step\n",
            "Epoch 24/50\n",
            "13/13 - 0s - loss: 0.4979 - val_loss: 0.6303 - 100ms/epoch - 8ms/step\n",
            "Epoch 25/50\n",
            "13/13 - 0s - loss: 0.4961 - val_loss: 0.6293 - 102ms/epoch - 8ms/step\n",
            "Epoch 26/50\n",
            "13/13 - 0s - loss: 0.4960 - val_loss: 0.6349 - 117ms/epoch - 9ms/step\n",
            "Epoch 27/50\n",
            "13/13 - 0s - loss: 0.4988 - val_loss: 0.6342 - 114ms/epoch - 9ms/step\n",
            "Epoch 28/50\n",
            "13/13 - 0s - loss: 0.4967 - val_loss: 0.6339 - 122ms/epoch - 9ms/step\n",
            "Epoch 29/50\n",
            "13/13 - 0s - loss: 0.4954 - val_loss: 0.6389 - 110ms/epoch - 8ms/step\n",
            "Epoch 30/50\n",
            "13/13 - 0s - loss: 0.4973 - val_loss: 0.6314 - 118ms/epoch - 9ms/step\n",
            "Epoch 31/50\n",
            "13/13 - 0s - loss: 0.5009 - val_loss: 0.6435 - 115ms/epoch - 9ms/step\n",
            "Epoch 32/50\n",
            "13/13 - 0s - loss: 0.5040 - val_loss: 0.6317 - 108ms/epoch - 8ms/step\n",
            "Epoch 33/50\n",
            "13/13 - 0s - loss: 0.4974 - val_loss: 0.6299 - 108ms/epoch - 8ms/step\n",
            "Epoch 34/50\n",
            "13/13 - 0s - loss: 0.4959 - val_loss: 0.6300 - 108ms/epoch - 8ms/step\n",
            "Epoch 35/50\n",
            "13/13 - 0s - loss: 0.4965 - val_loss: 0.6261 - 110ms/epoch - 8ms/step\n",
            "Epoch 36/50\n",
            "13/13 - 0s - loss: 0.4991 - val_loss: 0.6327 - 98ms/epoch - 8ms/step\n",
            "Epoch 37/50\n",
            "13/13 - 0s - loss: 0.4928 - val_loss: 0.6262 - 101ms/epoch - 8ms/step\n",
            "Epoch 38/50\n",
            "13/13 - 0s - loss: 0.4935 - val_loss: 0.6305 - 113ms/epoch - 9ms/step\n",
            "Epoch 39/50\n",
            "13/13 - 0s - loss: 0.4993 - val_loss: 0.6362 - 107ms/epoch - 8ms/step\n",
            "Epoch 40/50\n",
            "13/13 - 0s - loss: 0.5008 - val_loss: 0.6441 - 114ms/epoch - 9ms/step\n",
            "Epoch 41/50\n",
            "13/13 - 0s - loss: 0.5002 - val_loss: 0.6492 - 101ms/epoch - 8ms/step\n",
            "Epoch 42/50\n",
            "13/13 - 0s - loss: 0.5030 - val_loss: 0.6476 - 103ms/epoch - 8ms/step\n",
            "Epoch 43/50\n",
            "13/13 - 0s - loss: 0.5043 - val_loss: 0.6363 - 103ms/epoch - 8ms/step\n",
            "Epoch 44/50\n",
            "13/13 - 0s - loss: 0.5071 - val_loss: 0.6360 - 108ms/epoch - 8ms/step\n",
            "Epoch 45/50\n",
            "13/13 - 0s - loss: 0.5078 - val_loss: 0.6264 - 105ms/epoch - 8ms/step\n",
            "Epoch 46/50\n",
            "13/13 - 0s - loss: 0.5080 - val_loss: 0.6452 - 110ms/epoch - 8ms/step\n",
            "Epoch 47/50\n",
            "13/13 - 0s - loss: 0.5099 - val_loss: 0.6387 - 108ms/epoch - 8ms/step\n",
            "Epoch 48/50\n",
            "13/13 - 0s - loss: 0.5051 - val_loss: 0.6592 - 103ms/epoch - 8ms/step\n",
            "Epoch 49/50\n",
            "13/13 - 0s - loss: 0.5111 - val_loss: 0.6332 - 106ms/epoch - 8ms/step\n",
            "Epoch 50/50\n",
            "13/13 - 0s - loss: 0.5045 - val_loss: 0.6415 - 103ms/epoch - 8ms/step\n"
          ]
        },
        {
          "output_type": "execute_result",
          "data": {
            "text/plain": [
              "<keras.callbacks.History at 0x7f2817d9a940>"
            ]
          },
          "metadata": {},
          "execution_count": 54
        }
      ]
    },
    {
      "cell_type": "markdown",
      "source": [
        "tetsing the model"
      ],
      "metadata": {
        "id": "zz9LO228O6p_"
      }
    },
    {
      "cell_type": "code",
      "source": [
        "def rescale_data(data1, data2):\n",
        "\n",
        "    min_data1 = min(data1.ravel())\n",
        "    max_data1 = max(data1.ravel())\n",
        "    \n",
        "    rescaled_data2 = [(data2-min(data2.ravel()))*(max_data1-min_data1)/(max(data2.ravel())-min(data2.ravel()))+min_data1]\n",
        "    \n",
        "    return rescaled_data2[0]\n"
      ],
      "metadata": {
        "id": "otnmcZM4Lr6J"
      },
      "execution_count": 18,
      "outputs": []
    },
    {
      "cell_type": "code",
      "source": [
        "len(files)"
      ],
      "metadata": {
        "colab": {
          "base_uri": "https://localhost:8080/"
        },
        "id": "cfOyFeBLojlB",
        "outputId": "a8957d18-ce3a-419d-afd9-299eb29761ff"
      },
      "execution_count": 44,
      "outputs": [
        {
          "output_type": "execute_result",
          "data": {
            "text/plain": [
              "118"
            ]
          },
          "metadata": {},
          "execution_count": 44
        }
      ]
    },
    {
      "cell_type": "code",
      "source": [
        "merra_file = xr.open_dataset(files[23])\n",
        "\n",
        "lon_crop = merra_file['longitude']\n",
        "lat_crop = merra_file['latitude']\n",
        "\n",
        "merra_data = get_data(merra_file)\n",
        "\n",
        "# merra_data = np.expand_dims(merra_data, axis=0)\n",
        "# merra_data[np.isnan(merra_data)] = 0\n",
        "merra_data = (merra_data-global_mean)/global_std\n",
        "\n",
        "factor = 2\n",
        "merra_downgraded_data = merra_data[:, ::factor, ::factor, :]\n",
        "print(merra_downgraded_data.shape)\n",
        "# merra_downgraded_data = merra_data\n",
        "\n",
        "# merra_downscale = np.squeeze(model.predict(np.expand_dims(merra_downgraded_data, axis=0))) # works without scaling, since have to add extra dim\n",
        "\n",
        "merra_downscale = model.predict(merra_downgraded_data)\n",
        "\n",
        "# merra_downscale = rescale_data(merra_downgraded_data, merra_downscale)\n",
        "\n",
        "\n",
        "\n",
        "# back to actual scaling\n",
        "\n",
        "merra_data = (merra_data*global_std)+global_mean\n",
        "merra_downgraded_data = (merra_downgraded_data*global_std)+global_mean\n",
        "merra_downscale = (merra_downscale*global_std)+global_mean\n"
      ],
      "metadata": {
        "colab": {
          "base_uri": "https://localhost:8080/"
        },
        "id": "31PxJ17GFsjs",
        "outputId": "9b1ba1a3-8a74-41be-a598-abce55d6b9b2"
      },
      "execution_count": 55,
      "outputs": [
        {
          "output_type": "stream",
          "name": "stdout",
          "text": [
            "(1, 50, 50, 8)\n",
            "1/1 [==============================] - 0s 91ms/step\n"
          ]
        }
      ]
    },
    {
      "cell_type": "code",
      "source": [
        "var_id = 3\n",
        "\n",
        "\n",
        "fig, ax = plt.subplots(2, 2, figsize=(13, 9), subplot_kw={'projection': ccrs.PlateCarree()},)\n",
        "\n",
        "out1 = ax[0, 0].imshow(merra_data[0, :,:,var_id], extent=[lon_crop.min(), lon_crop.max(), lat_crop.min(), lat_crop.max()])\n",
        "#out1 = ax[0, 0].imshow(np.sqrt(merra_data[0, :,:,0]**2 + merra_data[0, :,:,1]**2) , extent=[lon_crop.min(), lon_crop.max(), lat_crop.min(), lat_crop.max()])\n",
        "\n",
        "plt.colorbar(out1, ax=ax[0,0])\n",
        "\n",
        "out2 = ax[0, 1].imshow(merra_downgraded_data[0, :,:,var_id], extent=[lon_crop.min(), lon_crop.max(), lat_crop.min(), lat_crop.max()])\n",
        "#out2 = ax[0, 1].imshow( np.sqrt( merra_downgraded_data[0, :,:,0]**2 + merra_downgraded_data[0, :,:,0]**2 ), extent=[lon_crop.min(), lon_crop.max(), lat_crop.min(), lat_crop.max()])\n",
        "\n",
        "plt.colorbar(out2, ax=ax[0, 1])\n",
        "\n",
        "out3 = ax[1, 1].imshow(merra_downscale[0, :, :, var_id], extent=[lon_crop.min(), lon_crop.max(), lat_crop.min(), lat_crop.max()])\n",
        "# out3 = ax[1, 1].imshow( np.sqrt( merra_downscale[0, :, :, 0]**2 + merra_downscale[0, :, :, 1]**2), extent=[lon_crop.min(), lon_crop.max(), lat_crop.min(), lat_crop.max()])\n",
        "\n",
        "plt.colorbar(out3, ax=ax[1, 1])\n",
        "\n",
        "# [ax.coastlines() for ax in ax.ravel()]\n",
        "[coast(ax) for ax in ax.ravel()]\n",
        "fig.delaxes(ax[1, 0])\n",
        "\n",
        "ax[0,0].set_title('MERRA 50 km')\n",
        "ax[0,1].set_title(f'MERRA {50*factor} km')\n",
        "ax[1,1].set_title('Downscaled MERRA')\n",
        "\n",
        "plt.show()\n"
      ],
      "metadata": {
        "colab": {
          "base_uri": "https://localhost:8080/",
          "height": 551
        },
        "id": "nNZ-k7n5HJTZ",
        "outputId": "8891456c-5261-46c7-fef3-0d38d816af03"
      },
      "execution_count": 56,
      "outputs": [
        {
          "output_type": "display_data",
          "data": {
            "text/plain": [
              "<Figure size 936x648 with 6 Axes>"
            ],
            "image/png": "[encoded data removed]"
          },
          "metadata": {
            "needs_background": "light"
          }
        }
      ]
    },
    {
      "cell_type": "code",
      "source": [
        "\n",
        "fig, ax = plt.subplots(2, 2, figsize=(13, 9), subplot_kw={'projection': ccrs.PlateCarree()},)\n",
        "\n",
        "out1 = ax[0, 0].contourf(merra_data[0, :,:,var_id], extent=[lon_crop.min(), lon_crop.max(), lat_crop.min(), lat_crop.max()])\n",
        "plt.colorbar(out1, ax=ax[0,0])\n",
        "\n",
        "out2 = ax[0, 1].contourf(merra_downgraded_data[0, :,:,var_id], extent=[lon_crop.min(), lon_crop.max(), lat_crop.min(), lat_crop.max()])\n",
        "plt.colorbar(out2, ax=ax[0, 1])\n",
        "\n",
        "out3 = ax[1, 1].contourf(merra_downscale[0, :, :, var_id], extent=[lon_crop.min(), lon_crop.max(), lat_crop.min(), lat_crop.max()])\n",
        "plt.colorbar(out3, ax=ax[1, 1])\n",
        "\n",
        "# [ax.coastlines() for ax in ax.ravel()]\n",
        "[coast(ax) for ax in ax.ravel()]\n",
        "fig.delaxes(ax[1, 0])\n",
        "\n",
        "ax[0,0].set_title('MERRA 50 km')\n",
        "ax[0,1].set_title('MERRA 100 km')\n",
        "ax[1,1].set_title('Downscaled MERRA')\n",
        "\n",
        "plt.show()"
      ],
      "metadata": {
        "colab": {
          "base_uri": "https://localhost:8080/",
          "height": 551
        },
        "id": "qduCrCrlRZO2",
        "outputId": "b1303584-b894-4f05-d188-a6e9dc71d976"
      },
      "execution_count": 47,
      "outputs": [
        {
          "output_type": "display_data",
          "data": {
            "text/plain": [
              "<Figure size 936x648 with 6 Axes>"
            ],
            "image/png": "[encoded data removed]"
          },
          "metadata": {
            "needs_background": "light"
          }
        }
      ]
    },
    {
      "cell_type": "code",
      "source": [
        "pcp_downgraded = pcp_crop[::upscale_factor, ::upscale_factor]\n",
        "print(pcp_downgraded.shape)\n",
        "test_out = np.stack((pcp_downgraded, pcp_downgraded, pcp_downgraded), axis=2)\n",
        "print(test_out.shape)\n",
        "\n",
        "input = np.expand_dims(test_out, axis=0)\n",
        "print(input.shape)\n",
        "\n",
        "output = model.predict(input)\n",
        "\n",
        "print(output.shape)\n"
      ],
      "metadata": {
        "id": "CXdjAVlLGVpu"
      },
      "execution_count": null,
      "outputs": []
    },
    {
      "cell_type": "code",
      "source": [
        "def coast(ax):\n",
        "    gl = ax.gridlines(crs=ccrs.PlateCarree(), draw_labels=True, linewidth=1.5, color='k', alpha=0.5, linestyle='--')\n",
        "    gl.top_labels  = False\n",
        "    gl.left_labels  = True\n",
        "    gl.right_labels  = False"
      ],
      "metadata": {
        "id": "tw05_2VNFI5k"
      },
      "execution_count": 24,
      "outputs": []
    },
    {
      "cell_type": "code",
      "source": [
        "def downscale(lon_crop, lat_crop, var):\n",
        "\n",
        "\n",
        "    var_downgraded = var[::2, ::2]\n",
        "    test_out = np.stack((var_downgraded, var_downgraded, var_downgraded), axis=2)\n",
        "\n",
        "    input = np.expand_dims(test_out, axis=0)\n",
        "    \n",
        "    output = model.predict(input)\n",
        "\n",
        "\n",
        "    fig, ax = plt.subplots(2, 2, figsize=(13, 9), subplot_kw={'projection': ccrs.PlateCarree()},)\n",
        "\n",
        "\n",
        "    ax[0, 0].imshow(lowres_img_arr[:, :, 0], extent=[lon_crop.min(), lon_crop.max(), lat_crop.min(), lat_crop.max()])\n",
        "    ax[0, 1].imshow(highres_img_arr[:, :, 0], extent=[lon_crop.min(), lon_crop.max(), lat_crop.min(), lat_crop.max()])\n",
        "    ax[1, 1].imshow(predict_img_arr[:, :, 0], extent=[lon_crop.min(), lon_crop.max(), lat_crop.min(), lat_crop.max()])\n",
        "    ax[1, 0].imshow(pcp_crop, extent=[lon_crop.min(), lon_crop.max(), lat_crop.min(), lat_crop.max()])\n",
        "    ax[1, 0].set_title('TRMM 25 km')\n",
        "    [ax.coastlines() for ax in ax.ravel()]\n",
        "\n",
        "    ax[1, 1].set_title('Downscaled 10 km')\n",
        "    [coast(ax) for ax in ax.ravel()]\n"
      ],
      "metadata": {
        "id": "as8olLIlUgAf"
      },
      "execution_count": null,
      "outputs": []
    },
    {
      "cell_type": "code",
      "source": [
        "from pydap.client import open_url\n",
        "from pydap.cas.urs import setup_session\n",
        "\n",
        "#url = 'https://gpm1.gesdisc.eosdis.nasa.gov/dods/GPM_3IMERGHHL_06'\n",
        "#session = setup_session(username='ankurk017', password='Jelly0311', check_url = url)\n",
        "#dataset = open_url(url, session=session)"
      ],
      "metadata": {
        "id": "6cDKl6LHV05O"
      },
      "execution_count": null,
      "outputs": []
    },
    {
      "cell_type": "code",
      "source": [
        "import datetime\n",
        "\n",
        "def get_trmm_file(input_date_str):\n",
        "    # Convert input date to datetime object\n",
        "    input_date = datetime.datetime.strptime(input_date_str, \"%Y%m%d%H\")\n",
        "\n",
        "    # Calculate Julian date\n",
        "    julian_date = input_date.timetuple().tm_yday\n",
        "\n",
        "    # Generate link with Julian date\n",
        "    link = f\"https://disc2.gesdisc.eosdis.nasa.gov/opendap/TRMM_RT/TRMM_3B42RT.7/{input_date.year}/{julian_date}/3B42RT.{input_date.strftime('%Y%m%d%H')}.7.nc4\"\n",
        "\n",
        "    return link\n"
      ],
      "metadata": {
        "id": "0JrO8g1aDo9G"
      },
      "execution_count": null,
      "outputs": []
    },
    {
      "cell_type": "code",
      "source": [
        "# NIO Cyclone\n",
        "file = get_trmm_file('2018101018')\n",
        "ROI = [82, 88, 14, 20]\n",
        "\n",
        "# Hurricane Harvey\n",
        "file = get_trmm_file('2017082506')\n",
        "ROI = [-100, -90, 20, 30]\n",
        "\n",
        "# Hurricane Florence\n",
        "# file = get_trmm_file('2018091406')\n",
        "# ROI = [-82, -72, 30, 40]\n",
        "\n",
        "\n",
        "session = setup_session('ankurk017', passcode, check_url=file)\n",
        "dataset = open_url(file, session=session)\n",
        "\n",
        "lon = dataset['lon'].data[:]\n",
        "lat = dataset['lat'].data[:]\n",
        "\n",
        "lon_id = np.where(np.logical_and(lon>ROI[0], lon<ROI[1]))[0]\n",
        "lat_id = np.where(np.logical_and(lat>ROI[2], lat<ROI[3]))[0]\n",
        "\n",
        "pcp = dataset['precipitation'].data[:]\n",
        "\n",
        "lon_crop = lon[lon_id][:-1]\n",
        "lat_crop = lat[lat_id][:-1]\n",
        "pcp_crop = dataset['precipitation'].data[slice(lat_id[0],lat_id[-1]), slice(lon_id[0],lon_id[-1])]\n",
        "\n"
      ],
      "metadata": {
        "id": "1eJqyJJ4WT6l"
      },
      "execution_count": null,
      "outputs": []
    },
    {
      "cell_type": "code",
      "source": [
        "model.predict(np.random.random((1,  10, 10, 3))).shape"
      ],
      "metadata": {
        "id": "ntEIDIq4utWQ"
      },
      "execution_count": null,
      "outputs": []
    },
    {
      "cell_type": "code",
      "source": [
        "pcp_crop.shape\n",
        "pcp_downgraded = pcp_crop[::upscale_factor, ::upscale_factor]\n",
        "print(pcp_downgraded.shape)\n",
        "test_out = np.stack((pcp_downgraded, pcp_downgraded, pcp_downgraded), axis=2)\n",
        "print(test_out.shape)\n",
        "\n",
        "input = np.expand_dims(test_out, axis=0)\n",
        "print(input.shape)\n",
        "output = model.predict(input)\n",
        "\n",
        "print(output.shape)\n",
        "\n"
      ],
      "metadata": {
        "id": "EZO3neCZllTo"
      },
      "execution_count": null,
      "outputs": []
    },
    {
      "cell_type": "code",
      "source": [
        "\n",
        "fig, ax = plt.subplots(2, 2, figsize=(13, 9), subplot_kw={'projection': ccrs.PlateCarree()},)\n",
        "\n",
        "ax[0, 0].imshow(pcp_crop, extent=[lon_crop.min(), lon_crop.max(), lat_crop.min(), lat_crop.max()])\n",
        "ax[0, 1].imshow(pcp_downgraded, extent=[lon_crop.min(), lon_crop.max(), lat_crop.min(), lat_crop.max()])\n",
        "ax[1, 1].imshow(output.squeeze()[:, :, 0], extent=[lon_crop.min(), lon_crop.max(), lat_crop.min(), lat_crop.max()])\n",
        "\n",
        "# [ax.coastlines() for ax in ax.ravel()]\n",
        "[coast(ax) for ax in ax.ravel()]\n",
        "plt.show()"
      ],
      "metadata": {
        "id": "1YZO0BPFxB5q"
      },
      "execution_count": null,
      "outputs": []
    },
    {
      "cell_type": "code",
      "source": [
        "plt.imshow(pcp_crop)\n",
        "plt.colorbar()"
      ],
      "metadata": {
        "id": "NYdbhZNdvkaD"
      },
      "execution_count": null,
      "outputs": []
    },
    {
      "cell_type": "code",
      "source": [
        "plt.imshow(pcp_downgraded)\n",
        "plt.colorbar()"
      ],
      "metadata": {
        "id": "f3uZoJ1jv1et"
      },
      "execution_count": null,
      "outputs": []
    },
    {
      "cell_type": "code",
      "source": [
        "plt.imshow(output.squeeze()[:, :, 0])\n",
        "plt.colorbar()"
      ],
      "metadata": {
        "id": "nXSataLnwAfk"
      },
      "execution_count": null,
      "outputs": []
    },
    {
      "cell_type": "code",
      "source": [],
      "metadata": {
        "id": "em2CpcZ5u4Xo"
      },
      "execution_count": null,
      "outputs": []
    },
    {
      "cell_type": "code",
      "source": [
        "test_out = np.stack((pcp_downgraded, pcp_downgraded, pcp_downgraded), axis=2)\n",
        "\n",
        "\n",
        "upscale_factor = 2\n",
        "\n",
        "img = array_to_img(test_out)\n",
        "\n",
        "lowres_input = get_lowres_image(img, upscale_factor)\n",
        "\n",
        "w = lowres_input.size[0] * upscale_factor\n",
        "h = lowres_input.size[1] * upscale_factor\n",
        "\n",
        "highres_img = img.resize((w, h))\n",
        "\n",
        "prediction = upscale_image(model, lowres_input)"
      ],
      "metadata": {
        "id": "TBS1etOLl3Ni"
      },
      "execution_count": null,
      "outputs": []
    },
    {
      "cell_type": "code",
      "source": [
        "fig, ax = plt.subplots(1,3, figsize=(13, 5))\n",
        "ax[0].imshow(pcp_crop)\n",
        "ax[1].imshow(pcp_downgraded)\n",
        "ax[2].imshow(img_to_array(prediction)[:,:,0])\n",
        "ax[0].set_title('TRMM')\n",
        "ax[1].set_title('TRMM downgraded')\n",
        "ax[2].set_title('TRMM upgraded')"
      ],
      "metadata": {
        "id": "OnsGgfEJmItZ"
      },
      "execution_count": null,
      "outputs": []
    },
    {
      "cell_type": "code",
      "source": [
        "plt.imshow(pcp_downgraded)"
      ],
      "metadata": {
        "id": "f0UCuww4mMD_"
      },
      "execution_count": null,
      "outputs": []
    },
    {
      "cell_type": "code",
      "source": [
        "plt.imshow(img_to_array(prediction)[:,:,0])"
      ],
      "metadata": {
        "id": "g8nPAjN2mScP"
      },
      "execution_count": null,
      "outputs": []
    }
  ],
  "metadata": {
    "accelerator": "GPU",
    "colab": {
      "provenance": [],
      "include_colab_link": true
    },
    "kernelspec": {
      "display_name": "Python 3",
      "language": "python",
      "name": "python3"
    },
    "language_info": {
      "codemirror_mode": {
        "name": "ipython",
        "version": 3
      },
      "file_extension": ".py",
      "mimetype": "text/x-python",
      "name": "python",
      "nbconvert_exporter": "python",
      "pygments_lexer": "ipython3",
      "version": "3.7.0"
    }
  },
  "nbformat": 4,
  "nbformat_minor": 0
}